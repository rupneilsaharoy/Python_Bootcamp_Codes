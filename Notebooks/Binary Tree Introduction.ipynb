{
 "cells": [
  {
   "cell_type": "markdown",
   "metadata": {},
   "source": [
    "## https://www.geeksforgeeks.org/binary-tree-set-1-introduction/"
   ]
  },
  {
   "cell_type": "code",
   "execution_count": 1,
   "metadata": {},
   "outputs": [],
   "source": [
    "\"\"\"Python program to create a binary tree\n",
    "\n",
    "      tree\n",
    "      ----\n",
    "       1    <-- root\n",
    "     /   \\\n",
    "    2     3  \n",
    "   /   \n",
    "  4\n",
    "  \n",
    "\"\"\""
   ]
  },
  {
   "cell_type": "code",
   "execution_count": 4,
   "metadata": {},
   "outputs": [],
   "source": [
    "# A class that represents an individual node in a binary tree\n",
    "\n",
    "class Node:\n",
    "    def __init__(self, value):\n",
    "        self.left = None\n",
    "        self.right = None\n",
    "        self.val = value"
   ]
  },
  {
   "cell_type": "code",
   "execution_count": 7,
   "metadata": {},
   "outputs": [
    {
     "data": {
      "text/plain": [
       "' following is the tree after above statement \\n        1 \\n      /   \\\\ \\n     None  None'"
      ]
     },
     "execution_count": 7,
     "metadata": {},
     "output_type": "execute_result"
    }
   ],
   "source": [
    "# Create root\n",
    "root = Node(1)\n",
    "\n",
    "''' following is the tree after above statement \n",
    "        1 \n",
    "      /   \\ \n",
    "     None  None'''"
   ]
  },
  {
   "cell_type": "code",
   "execution_count": 11,
   "metadata": {},
   "outputs": [
    {
     "data": {
      "text/plain": [
       "' 2 and 3 become left and right children of 1 \\n           1 \\n         /   \\\\ \\n        2      3 \\n     /    \\\\    /  \\\\ \\n   None None None None'"
      ]
     },
     "execution_count": 11,
     "metadata": {},
     "output_type": "execute_result"
    }
   ],
   "source": [
    "root.left = Node(2)\n",
    "root.right = Node(3)\n",
    "\n",
    "''' 2 and 3 become left and right children of 1 \n",
    "           1 \n",
    "         /   \\ \n",
    "        2      3 \n",
    "     /    \\    /  \\ \n",
    "   None None None None'''"
   ]
  },
  {
   "cell_type": "code",
   "execution_count": 13,
   "metadata": {},
   "outputs": [
    {
     "data": {
      "text/plain": [
       "'4 becomes left child of 2 \\n           1 \\n       /       \\\\ \\n      2          3 \\n    /   \\\\       /  \\\\ \\n   4    None  None  None \\n  /  \\\\ \\nNone None'"
      ]
     },
     "execution_count": 13,
     "metadata": {},
     "output_type": "execute_result"
    }
   ],
   "source": [
    "root.left.left = Node(4)\n",
    "\n",
    "'''4 becomes left child of 2 \n",
    "           1 \n",
    "       /       \\ \n",
    "      2          3 \n",
    "    /   \\       /  \\ \n",
    "   4    None  None  None \n",
    "  /  \\ \n",
    "None None'''"
   ]
  }
 ],
 "metadata": {
  "kernelspec": {
   "display_name": "Python 3",
   "language": "python",
   "name": "python3"
  },
  "language_info": {
   "codemirror_mode": {
    "name": "ipython",
    "version": 3
   },
   "file_extension": ".py",
   "mimetype": "text/x-python",
   "name": "python",
   "nbconvert_exporter": "python",
   "pygments_lexer": "ipython3",
   "version": "3.7.4"
  }
 },
 "nbformat": 4,
 "nbformat_minor": 2
}
