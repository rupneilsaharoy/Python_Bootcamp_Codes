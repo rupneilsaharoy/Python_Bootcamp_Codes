{
 "cells": [
  {
   "cell_type": "code",
   "execution_count": 1,
   "metadata": {},
   "outputs": [
    {
     "name": "stdout",
     "output_type": "stream",
     "text": [
      "[1, 6, 7]\n"
     ]
    }
   ],
   "source": [
    "def merge(left,right):\n",
    "    result= []\n",
    "    i,j = 0,0\n",
    "    while i<len(left) and j< len(right):\n",
    "        if(left[i] < right[j]):\n",
    "            result.append(left[i])\n",
    "            i+=1\n",
    "        else:\n",
    "            result.append(right[j])\n",
    "            j+=1\n",
    "    \n",
    "    result += left[i:]\n",
    "    result += right[j:]\n",
    "    return result\n",
    "\n",
    "\n",
    "def mergesort(lst):\n",
    "    if(len(lst) <= 1):\n",
    "        return lst\n",
    "    mid = int(len(lst)/2)\n",
    "    left = mergesort(lst[:mid])\n",
    "    right = mergesort(lst[mid:])\n",
    "    return merge(left,right)\n",
    "\n",
    "arr = [7,6,1]\n",
    "print(mergesort(arr))"
   ]
  },
  {
   "cell_type": "code",
   "execution_count": 2,
   "metadata": {},
   "outputs": [
    {
     "data": {
      "text/plain": [
       "[]"
      ]
     },
     "execution_count": 2,
     "metadata": {},
     "output_type": "execute_result"
    }
   ],
   "source": [
    "arr[3:]"
   ]
  },
  {
   "cell_type": "code",
   "execution_count": null,
   "metadata": {},
   "outputs": [],
   "source": []
  }
 ],
 "metadata": {
  "kernelspec": {
   "display_name": "Python 3",
   "language": "python",
   "name": "python3"
  },
  "language_info": {
   "codemirror_mode": {
    "name": "ipython",
    "version": 3
   },
   "file_extension": ".py",
   "mimetype": "text/x-python",
   "name": "python",
   "nbconvert_exporter": "python",
   "pygments_lexer": "ipython3",
   "version": "3.7.4"
  }
 },
 "nbformat": 4,
 "nbformat_minor": 2
}
